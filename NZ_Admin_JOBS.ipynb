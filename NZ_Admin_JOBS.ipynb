{
 "cells": [
  {
   "cell_type": "code",
   "execution_count": 2,
   "metadata": {},
   "outputs": [],
   "source": [
    "import pandas as pd\n",
    "import datetime"
   ]
  },
  {
   "cell_type": "code",
   "execution_count": 3,
   "metadata": {},
   "outputs": [],
   "source": [
    "df = pd.read_excel(r\"/Users/logan/Downloads/NZ_Admin_JOBS.xlsx\")"
   ]
  },
  {
   "cell_type": "code",
   "execution_count": 8,
   "metadata": {},
   "outputs": [
    {
     "data": {
      "text/html": [
       "<div>\n",
       "<style scoped>\n",
       "    .dataframe tbody tr th:only-of-type {\n",
       "        vertical-align: middle;\n",
       "    }\n",
       "\n",
       "    .dataframe tbody tr th {\n",
       "        vertical-align: top;\n",
       "    }\n",
       "\n",
       "    .dataframe thead th {\n",
       "        text-align: right;\n",
       "    }\n",
       "</style>\n",
       "<table border=\"1\" class=\"dataframe\">\n",
       "  <thead>\n",
       "    <tr style=\"text-align: right;\">\n",
       "      <th></th>\n",
       "      <th>Administrator</th>\n",
       "      <th>https://www.seek.co.nz/job/50582301?type=promoted#searchRequestToken=feee129e-c80f-4f79-ac5f-98ddb6d6c22b</th>\n",
       "      <th>Unnamed: 2</th>\n",
       "      <th>location: Bay of PlentyBay of Plentyarea: TaurangaTauranga</th>\n",
       "      <th>Featured,at,Private Advertiser</th>\n",
       "      <th>classification: Administration &amp; Office SupportAdministration &amp; Office SupportsubClassification: Office ManagementOffice Management</th>\n",
       "    </tr>\n",
       "  </thead>\n",
       "  <tbody>\n",
       "    <tr>\n",
       "      <th>0</th>\n",
       "      <td>Receptionist</td>\n",
       "      <td>https://www.seek.co.nz/job/50620889?type=promo...</td>\n",
       "      <td>Avenues Orthodontics</td>\n",
       "      <td>location: Bay of PlentyBay of Plentyarea: Taur...</td>\n",
       "      <td>Featured,at</td>\n",
       "      <td>classification: Administration &amp; Office Suppor...</td>\n",
       "    </tr>\n",
       "    <tr>\n",
       "      <th>1</th>\n",
       "      <td>Prosecutions Support Officer</td>\n",
       "      <td>https://www.seek.co.nz/job/50622169?type=stand...</td>\n",
       "      <td>New Zealand Police</td>\n",
       "      <td>location: AucklandAuckland</td>\n",
       "      <td>4d ago,at</td>\n",
       "      <td>classification: Administration &amp; Office Suppor...</td>\n",
       "    </tr>\n",
       "    <tr>\n",
       "      <th>2</th>\n",
       "      <td>Early Childhood Centre Administrator</td>\n",
       "      <td>https://www.seek.co.nz/job/50639620?type=stand...</td>\n",
       "      <td>Kew Pacific Island Early Learning Centre</td>\n",
       "      <td>location: SouthlandSouthlandarea: Invercargill...</td>\n",
       "      <td>1h ago,at</td>\n",
       "      <td>classification: Administration &amp; Office Suppor...</td>\n",
       "    </tr>\n",
       "    <tr>\n",
       "      <th>3</th>\n",
       "      <td>Business Support Administrator</td>\n",
       "      <td>https://www.seek.co.nz/job/50622432?type=stand...</td>\n",
       "      <td>NaN</td>\n",
       "      <td>location: CanterburyCanterburyarea: Christchur...</td>\n",
       "      <td>4d ago,at,Private Advertiser</td>\n",
       "      <td>classification: Administration &amp; Office Suppor...</td>\n",
       "    </tr>\n",
       "    <tr>\n",
       "      <th>4</th>\n",
       "      <td>Support Officer</td>\n",
       "      <td>https://www.seek.co.nz/job/50640393?type=stand...</td>\n",
       "      <td>Ministry for Primary Industries</td>\n",
       "      <td>location: NorthlandNorthlandarea: WhangareiWha...</td>\n",
       "      <td>9m ago,at</td>\n",
       "      <td>classification: Administration &amp; Office Suppor...</td>\n",
       "    </tr>\n",
       "  </tbody>\n",
       "</table>\n",
       "</div>"
      ],
      "text/plain": [
       "                          Administrator  \\\n",
       "0                          Receptionist   \n",
       "1          Prosecutions Support Officer   \n",
       "2  Early Childhood Centre Administrator   \n",
       "3        Business Support Administrator   \n",
       "4                       Support Officer   \n",
       "\n",
       "  https://www.seek.co.nz/job/50582301?type=promoted#searchRequestToken=feee129e-c80f-4f79-ac5f-98ddb6d6c22b  \\\n",
       "0  https://www.seek.co.nz/job/50620889?type=promo...                                                          \n",
       "1  https://www.seek.co.nz/job/50622169?type=stand...                                                          \n",
       "2  https://www.seek.co.nz/job/50639620?type=stand...                                                          \n",
       "3  https://www.seek.co.nz/job/50622432?type=stand...                                                          \n",
       "4  https://www.seek.co.nz/job/50640393?type=stand...                                                          \n",
       "\n",
       "                                 Unnamed: 2  \\\n",
       "0                      Avenues Orthodontics   \n",
       "1                        New Zealand Police   \n",
       "2  Kew Pacific Island Early Learning Centre   \n",
       "3                                       NaN   \n",
       "4           Ministry for Primary Industries   \n",
       "\n",
       "  location: Bay of PlentyBay of Plentyarea: TaurangaTauranga  \\\n",
       "0  location: Bay of PlentyBay of Plentyarea: Taur...           \n",
       "1                         location: AucklandAuckland           \n",
       "2  location: SouthlandSouthlandarea: Invercargill...           \n",
       "3  location: CanterburyCanterburyarea: Christchur...           \n",
       "4  location: NorthlandNorthlandarea: WhangareiWha...           \n",
       "\n",
       "  Featured,at,Private Advertiser  \\\n",
       "0                    Featured,at   \n",
       "1                      4d ago,at   \n",
       "2                      1h ago,at   \n",
       "3   4d ago,at,Private Advertiser   \n",
       "4                      9m ago,at   \n",
       "\n",
       "  classification: Administration & Office SupportAdministration & Office SupportsubClassification: Office ManagementOffice Management  \n",
       "0  classification: Administration & Office Suppor...                                                                                   \n",
       "1  classification: Administration & Office Suppor...                                                                                   \n",
       "2  classification: Administration & Office Suppor...                                                                                   \n",
       "3  classification: Administration & Office Suppor...                                                                                   \n",
       "4  classification: Administration & Office Suppor...                                                                                   "
      ]
     },
     "execution_count": 8,
     "metadata": {},
     "output_type": "execute_result"
    }
   ],
   "source": [
    "df.head()"
   ]
  },
  {
   "cell_type": "code",
   "execution_count": 9,
   "metadata": {},
   "outputs": [
    {
     "name": "stdout",
     "output_type": "stream",
     "text": [
      "(2707, 6)\n"
     ]
    }
   ],
   "source": [
    "print(df.shape)"
   ]
  },
  {
   "cell_type": "code",
   "execution_count": 10,
   "metadata": {},
   "outputs": [
    {
     "name": "stdout",
     "output_type": "stream",
     "text": [
      "<class 'pandas.core.frame.DataFrame'>\n",
      "RangeIndex: 2707 entries, 0 to 2706\n",
      "Data columns (total 6 columns):\n",
      " #   Column                                                                                                                               Non-Null Count  Dtype \n",
      "---  ------                                                                                                                               --------------  ----- \n",
      " 0   Administrator                                                                                                                        2707 non-null   object\n",
      " 1   https://www.seek.co.nz/job/50582301?type=promoted#searchRequestToken=feee129e-c80f-4f79-ac5f-98ddb6d6c22b                            2707 non-null   object\n",
      " 2   Unnamed: 2                                                                                                                           2686 non-null   object\n",
      " 3   location: Bay of PlentyBay of Plentyarea: TaurangaTauranga                                                                           2707 non-null   object\n",
      " 4   Featured,at,Private Advertiser                                                                                                       2707 non-null   object\n",
      " 5   classification: Administration & Office SupportAdministration & Office SupportsubClassification: Office ManagementOffice Management  2707 non-null   object\n",
      "dtypes: object(6)\n",
      "memory usage: 127.0+ KB\n",
      "None\n"
     ]
    }
   ],
   "source": [
    "print(df.info())"
   ]
  },
  {
   "cell_type": "code",
   "execution_count": 11,
   "metadata": {},
   "outputs": [],
   "source": [
    "df = pd.read_excel(r\"/Users/logan/Downloads/NZ_Admin_JOBS.xlsx\", header = None)"
   ]
  },
  {
   "cell_type": "code",
   "execution_count": 12,
   "metadata": {},
   "outputs": [
    {
     "data": {
      "text/html": [
       "<div>\n",
       "<style scoped>\n",
       "    .dataframe tbody tr th:only-of-type {\n",
       "        vertical-align: middle;\n",
       "    }\n",
       "\n",
       "    .dataframe tbody tr th {\n",
       "        vertical-align: top;\n",
       "    }\n",
       "\n",
       "    .dataframe thead th {\n",
       "        text-align: right;\n",
       "    }\n",
       "</style>\n",
       "<table border=\"1\" class=\"dataframe\">\n",
       "  <thead>\n",
       "    <tr style=\"text-align: right;\">\n",
       "      <th></th>\n",
       "      <th>0</th>\n",
       "      <th>1</th>\n",
       "      <th>2</th>\n",
       "      <th>3</th>\n",
       "      <th>4</th>\n",
       "      <th>5</th>\n",
       "    </tr>\n",
       "  </thead>\n",
       "  <tbody>\n",
       "    <tr>\n",
       "      <th>0</th>\n",
       "      <td>Administrator</td>\n",
       "      <td>https://www.seek.co.nz/job/50582301?type=promo...</td>\n",
       "      <td>NaN</td>\n",
       "      <td>location: Bay of PlentyBay of Plentyarea: Taur...</td>\n",
       "      <td>Featured,at,Private Advertiser</td>\n",
       "      <td>classification: Administration &amp; Office Suppor...</td>\n",
       "    </tr>\n",
       "    <tr>\n",
       "      <th>1</th>\n",
       "      <td>Receptionist</td>\n",
       "      <td>https://www.seek.co.nz/job/50620889?type=promo...</td>\n",
       "      <td>Avenues Orthodontics</td>\n",
       "      <td>location: Bay of PlentyBay of Plentyarea: Taur...</td>\n",
       "      <td>Featured,at</td>\n",
       "      <td>classification: Administration &amp; Office Suppor...</td>\n",
       "    </tr>\n",
       "    <tr>\n",
       "      <th>2</th>\n",
       "      <td>Prosecutions Support Officer</td>\n",
       "      <td>https://www.seek.co.nz/job/50622169?type=stand...</td>\n",
       "      <td>New Zealand Police</td>\n",
       "      <td>location: AucklandAuckland</td>\n",
       "      <td>4d ago,at</td>\n",
       "      <td>classification: Administration &amp; Office Suppor...</td>\n",
       "    </tr>\n",
       "    <tr>\n",
       "      <th>3</th>\n",
       "      <td>Early Childhood Centre Administrator</td>\n",
       "      <td>https://www.seek.co.nz/job/50639620?type=stand...</td>\n",
       "      <td>Kew Pacific Island Early Learning Centre</td>\n",
       "      <td>location: SouthlandSouthlandarea: Invercargill...</td>\n",
       "      <td>1h ago,at</td>\n",
       "      <td>classification: Administration &amp; Office Suppor...</td>\n",
       "    </tr>\n",
       "    <tr>\n",
       "      <th>4</th>\n",
       "      <td>Business Support Administrator</td>\n",
       "      <td>https://www.seek.co.nz/job/50622432?type=stand...</td>\n",
       "      <td>NaN</td>\n",
       "      <td>location: CanterburyCanterburyarea: Christchur...</td>\n",
       "      <td>4d ago,at,Private Advertiser</td>\n",
       "      <td>classification: Administration &amp; Office Suppor...</td>\n",
       "    </tr>\n",
       "  </tbody>\n",
       "</table>\n",
       "</div>"
      ],
      "text/plain": [
       "                                      0  \\\n",
       "0                         Administrator   \n",
       "1                          Receptionist   \n",
       "2          Prosecutions Support Officer   \n",
       "3  Early Childhood Centre Administrator   \n",
       "4        Business Support Administrator   \n",
       "\n",
       "                                                   1  \\\n",
       "0  https://www.seek.co.nz/job/50582301?type=promo...   \n",
       "1  https://www.seek.co.nz/job/50620889?type=promo...   \n",
       "2  https://www.seek.co.nz/job/50622169?type=stand...   \n",
       "3  https://www.seek.co.nz/job/50639620?type=stand...   \n",
       "4  https://www.seek.co.nz/job/50622432?type=stand...   \n",
       "\n",
       "                                          2  \\\n",
       "0                                       NaN   \n",
       "1                      Avenues Orthodontics   \n",
       "2                        New Zealand Police   \n",
       "3  Kew Pacific Island Early Learning Centre   \n",
       "4                                       NaN   \n",
       "\n",
       "                                                   3  \\\n",
       "0  location: Bay of PlentyBay of Plentyarea: Taur...   \n",
       "1  location: Bay of PlentyBay of Plentyarea: Taur...   \n",
       "2                         location: AucklandAuckland   \n",
       "3  location: SouthlandSouthlandarea: Invercargill...   \n",
       "4  location: CanterburyCanterburyarea: Christchur...   \n",
       "\n",
       "                                4  \\\n",
       "0  Featured,at,Private Advertiser   \n",
       "1                     Featured,at   \n",
       "2                       4d ago,at   \n",
       "3                       1h ago,at   \n",
       "4    4d ago,at,Private Advertiser   \n",
       "\n",
       "                                                   5  \n",
       "0  classification: Administration & Office Suppor...  \n",
       "1  classification: Administration & Office Suppor...  \n",
       "2  classification: Administration & Office Suppor...  \n",
       "3  classification: Administration & Office Suppor...  \n",
       "4  classification: Administration & Office Suppor...  "
      ]
     },
     "execution_count": 12,
     "metadata": {},
     "output_type": "execute_result"
    }
   ],
   "source": [
    "df.head()"
   ]
  },
  {
   "cell_type": "code",
   "execution_count": 13,
   "metadata": {},
   "outputs": [],
   "source": [
    "df_admin = df"
   ]
  },
  {
   "cell_type": "code",
   "execution_count": 14,
   "metadata": {},
   "outputs": [
    {
     "data": {
      "text/html": [
       "<div>\n",
       "<style scoped>\n",
       "    .dataframe tbody tr th:only-of-type {\n",
       "        vertical-align: middle;\n",
       "    }\n",
       "\n",
       "    .dataframe tbody tr th {\n",
       "        vertical-align: top;\n",
       "    }\n",
       "\n",
       "    .dataframe thead th {\n",
       "        text-align: right;\n",
       "    }\n",
       "</style>\n",
       "<table border=\"1\" class=\"dataframe\">\n",
       "  <thead>\n",
       "    <tr style=\"text-align: right;\">\n",
       "      <th></th>\n",
       "      <th>0</th>\n",
       "      <th>1</th>\n",
       "      <th>2</th>\n",
       "      <th>3</th>\n",
       "      <th>4</th>\n",
       "      <th>5</th>\n",
       "    </tr>\n",
       "  </thead>\n",
       "  <tbody>\n",
       "    <tr>\n",
       "      <th>0</th>\n",
       "      <td>Administrator</td>\n",
       "      <td>https://www.seek.co.nz/job/50582301?type=promo...</td>\n",
       "      <td>NaN</td>\n",
       "      <td>location: Bay of PlentyBay of Plentyarea: Taur...</td>\n",
       "      <td>Featured,at,Private Advertiser</td>\n",
       "      <td>classification: Administration &amp; Office Suppor...</td>\n",
       "    </tr>\n",
       "    <tr>\n",
       "      <th>1</th>\n",
       "      <td>Receptionist</td>\n",
       "      <td>https://www.seek.co.nz/job/50620889?type=promo...</td>\n",
       "      <td>Avenues Orthodontics</td>\n",
       "      <td>location: Bay of PlentyBay of Plentyarea: Taur...</td>\n",
       "      <td>Featured,at</td>\n",
       "      <td>classification: Administration &amp; Office Suppor...</td>\n",
       "    </tr>\n",
       "    <tr>\n",
       "      <th>2</th>\n",
       "      <td>Prosecutions Support Officer</td>\n",
       "      <td>https://www.seek.co.nz/job/50622169?type=stand...</td>\n",
       "      <td>New Zealand Police</td>\n",
       "      <td>location: AucklandAuckland</td>\n",
       "      <td>4d ago,at</td>\n",
       "      <td>classification: Administration &amp; Office Suppor...</td>\n",
       "    </tr>\n",
       "    <tr>\n",
       "      <th>3</th>\n",
       "      <td>Early Childhood Centre Administrator</td>\n",
       "      <td>https://www.seek.co.nz/job/50639620?type=stand...</td>\n",
       "      <td>Kew Pacific Island Early Learning Centre</td>\n",
       "      <td>location: SouthlandSouthlandarea: Invercargill...</td>\n",
       "      <td>1h ago,at</td>\n",
       "      <td>classification: Administration &amp; Office Suppor...</td>\n",
       "    </tr>\n",
       "    <tr>\n",
       "      <th>4</th>\n",
       "      <td>Business Support Administrator</td>\n",
       "      <td>https://www.seek.co.nz/job/50622432?type=stand...</td>\n",
       "      <td>NaN</td>\n",
       "      <td>location: CanterburyCanterburyarea: Christchur...</td>\n",
       "      <td>4d ago,at,Private Advertiser</td>\n",
       "      <td>classification: Administration &amp; Office Suppor...</td>\n",
       "    </tr>\n",
       "  </tbody>\n",
       "</table>\n",
       "</div>"
      ],
      "text/plain": [
       "                                      0  \\\n",
       "0                         Administrator   \n",
       "1                          Receptionist   \n",
       "2          Prosecutions Support Officer   \n",
       "3  Early Childhood Centre Administrator   \n",
       "4        Business Support Administrator   \n",
       "\n",
       "                                                   1  \\\n",
       "0  https://www.seek.co.nz/job/50582301?type=promo...   \n",
       "1  https://www.seek.co.nz/job/50620889?type=promo...   \n",
       "2  https://www.seek.co.nz/job/50622169?type=stand...   \n",
       "3  https://www.seek.co.nz/job/50639620?type=stand...   \n",
       "4  https://www.seek.co.nz/job/50622432?type=stand...   \n",
       "\n",
       "                                          2  \\\n",
       "0                                       NaN   \n",
       "1                      Avenues Orthodontics   \n",
       "2                        New Zealand Police   \n",
       "3  Kew Pacific Island Early Learning Centre   \n",
       "4                                       NaN   \n",
       "\n",
       "                                                   3  \\\n",
       "0  location: Bay of PlentyBay of Plentyarea: Taur...   \n",
       "1  location: Bay of PlentyBay of Plentyarea: Taur...   \n",
       "2                         location: AucklandAuckland   \n",
       "3  location: SouthlandSouthlandarea: Invercargill...   \n",
       "4  location: CanterburyCanterburyarea: Christchur...   \n",
       "\n",
       "                                4  \\\n",
       "0  Featured,at,Private Advertiser   \n",
       "1                     Featured,at   \n",
       "2                       4d ago,at   \n",
       "3                       1h ago,at   \n",
       "4    4d ago,at,Private Advertiser   \n",
       "\n",
       "                                                   5  \n",
       "0  classification: Administration & Office Suppor...  \n",
       "1  classification: Administration & Office Suppor...  \n",
       "2  classification: Administration & Office Suppor...  \n",
       "3  classification: Administration & Office Suppor...  \n",
       "4  classification: Administration & Office Suppor...  "
      ]
     },
     "execution_count": 14,
     "metadata": {},
     "output_type": "execute_result"
    }
   ],
   "source": [
    "df_admin.head()"
   ]
  },
  {
   "cell_type": "code",
   "execution_count": 15,
   "metadata": {},
   "outputs": [],
   "source": [
    "df_admin[['location','area']] = df_admin[3].str.split('area', expand=True)"
   ]
  },
  {
   "cell_type": "code",
   "execution_count": 16,
   "metadata": {},
   "outputs": [
    {
     "data": {
      "text/html": [
       "<div>\n",
       "<style scoped>\n",
       "    .dataframe tbody tr th:only-of-type {\n",
       "        vertical-align: middle;\n",
       "    }\n",
       "\n",
       "    .dataframe tbody tr th {\n",
       "        vertical-align: top;\n",
       "    }\n",
       "\n",
       "    .dataframe thead th {\n",
       "        text-align: right;\n",
       "    }\n",
       "</style>\n",
       "<table border=\"1\" class=\"dataframe\">\n",
       "  <thead>\n",
       "    <tr style=\"text-align: right;\">\n",
       "      <th></th>\n",
       "      <th>0</th>\n",
       "      <th>1</th>\n",
       "      <th>2</th>\n",
       "      <th>3</th>\n",
       "      <th>4</th>\n",
       "      <th>5</th>\n",
       "      <th>location</th>\n",
       "      <th>area</th>\n",
       "    </tr>\n",
       "  </thead>\n",
       "  <tbody>\n",
       "    <tr>\n",
       "      <th>0</th>\n",
       "      <td>Administrator</td>\n",
       "      <td>https://www.seek.co.nz/job/50582301?type=promo...</td>\n",
       "      <td>NaN</td>\n",
       "      <td>location: Bay of PlentyBay of Plentyarea: Taur...</td>\n",
       "      <td>Featured,at,Private Advertiser</td>\n",
       "      <td>classification: Administration &amp; Office Suppor...</td>\n",
       "      <td>location: Bay of PlentyBay of Plenty</td>\n",
       "      <td>: TaurangaTauranga</td>\n",
       "    </tr>\n",
       "    <tr>\n",
       "      <th>1</th>\n",
       "      <td>Receptionist</td>\n",
       "      <td>https://www.seek.co.nz/job/50620889?type=promo...</td>\n",
       "      <td>Avenues Orthodontics</td>\n",
       "      <td>location: Bay of PlentyBay of Plentyarea: Taur...</td>\n",
       "      <td>Featured,at</td>\n",
       "      <td>classification: Administration &amp; Office Suppor...</td>\n",
       "      <td>location: Bay of PlentyBay of Plenty</td>\n",
       "      <td>: TaurangaTauranga</td>\n",
       "    </tr>\n",
       "    <tr>\n",
       "      <th>2</th>\n",
       "      <td>Prosecutions Support Officer</td>\n",
       "      <td>https://www.seek.co.nz/job/50622169?type=stand...</td>\n",
       "      <td>New Zealand Police</td>\n",
       "      <td>location: AucklandAuckland</td>\n",
       "      <td>4d ago,at</td>\n",
       "      <td>classification: Administration &amp; Office Suppor...</td>\n",
       "      <td>location: AucklandAuckland</td>\n",
       "      <td>None</td>\n",
       "    </tr>\n",
       "    <tr>\n",
       "      <th>3</th>\n",
       "      <td>Early Childhood Centre Administrator</td>\n",
       "      <td>https://www.seek.co.nz/job/50639620?type=stand...</td>\n",
       "      <td>Kew Pacific Island Early Learning Centre</td>\n",
       "      <td>location: SouthlandSouthlandarea: Invercargill...</td>\n",
       "      <td>1h ago,at</td>\n",
       "      <td>classification: Administration &amp; Office Suppor...</td>\n",
       "      <td>location: SouthlandSouthland</td>\n",
       "      <td>: InvercargillInvercargill</td>\n",
       "    </tr>\n",
       "    <tr>\n",
       "      <th>4</th>\n",
       "      <td>Business Support Administrator</td>\n",
       "      <td>https://www.seek.co.nz/job/50622432?type=stand...</td>\n",
       "      <td>NaN</td>\n",
       "      <td>location: CanterburyCanterburyarea: Christchur...</td>\n",
       "      <td>4d ago,at,Private Advertiser</td>\n",
       "      <td>classification: Administration &amp; Office Suppor...</td>\n",
       "      <td>location: CanterburyCanterbury</td>\n",
       "      <td>: ChristchurchChristchurch</td>\n",
       "    </tr>\n",
       "  </tbody>\n",
       "</table>\n",
       "</div>"
      ],
      "text/plain": [
       "                                      0  \\\n",
       "0                         Administrator   \n",
       "1                          Receptionist   \n",
       "2          Prosecutions Support Officer   \n",
       "3  Early Childhood Centre Administrator   \n",
       "4        Business Support Administrator   \n",
       "\n",
       "                                                   1  \\\n",
       "0  https://www.seek.co.nz/job/50582301?type=promo...   \n",
       "1  https://www.seek.co.nz/job/50620889?type=promo...   \n",
       "2  https://www.seek.co.nz/job/50622169?type=stand...   \n",
       "3  https://www.seek.co.nz/job/50639620?type=stand...   \n",
       "4  https://www.seek.co.nz/job/50622432?type=stand...   \n",
       "\n",
       "                                          2  \\\n",
       "0                                       NaN   \n",
       "1                      Avenues Orthodontics   \n",
       "2                        New Zealand Police   \n",
       "3  Kew Pacific Island Early Learning Centre   \n",
       "4                                       NaN   \n",
       "\n",
       "                                                   3  \\\n",
       "0  location: Bay of PlentyBay of Plentyarea: Taur...   \n",
       "1  location: Bay of PlentyBay of Plentyarea: Taur...   \n",
       "2                         location: AucklandAuckland   \n",
       "3  location: SouthlandSouthlandarea: Invercargill...   \n",
       "4  location: CanterburyCanterburyarea: Christchur...   \n",
       "\n",
       "                                4  \\\n",
       "0  Featured,at,Private Advertiser   \n",
       "1                     Featured,at   \n",
       "2                       4d ago,at   \n",
       "3                       1h ago,at   \n",
       "4    4d ago,at,Private Advertiser   \n",
       "\n",
       "                                                   5  \\\n",
       "0  classification: Administration & Office Suppor...   \n",
       "1  classification: Administration & Office Suppor...   \n",
       "2  classification: Administration & Office Suppor...   \n",
       "3  classification: Administration & Office Suppor...   \n",
       "4  classification: Administration & Office Suppor...   \n",
       "\n",
       "                               location                        area  \n",
       "0  location: Bay of PlentyBay of Plenty          : TaurangaTauranga  \n",
       "1  location: Bay of PlentyBay of Plenty          : TaurangaTauranga  \n",
       "2            location: AucklandAuckland                        None  \n",
       "3          location: SouthlandSouthland  : InvercargillInvercargill  \n",
       "4        location: CanterburyCanterbury  : ChristchurchChristchurch  "
      ]
     },
     "execution_count": 16,
     "metadata": {},
     "output_type": "execute_result"
    }
   ],
   "source": [
    "df_admin.head()"
   ]
  },
  {
   "cell_type": "code",
   "execution_count": 17,
   "metadata": {},
   "outputs": [
    {
     "data": {
      "text/plain": [
       "0"
      ]
     },
     "execution_count": 17,
     "metadata": {},
     "output_type": "execute_result"
    }
   ],
   "source": [
    "df_admin['location'].isna().sum()"
   ]
  },
  {
   "cell_type": "code",
   "execution_count": 18,
   "metadata": {},
   "outputs": [
    {
     "data": {
      "text/plain": [
       "541"
      ]
     },
     "execution_count": 18,
     "metadata": {},
     "output_type": "execute_result"
    }
   ],
   "source": [
    "df_admin['area'].isna().sum()"
   ]
  },
  {
   "cell_type": "code",
   "execution_count": 19,
   "metadata": {},
   "outputs": [],
   "source": [
    "df_admin['location'] = df_admin['location'].apply(lambda x:x[9:])"
   ]
  },
  {
   "cell_type": "code",
   "execution_count": 20,
   "metadata": {},
   "outputs": [
    {
     "data": {
      "text/plain": [
       "0        Bay of PlentyBay of Plenty\n",
       "1        Bay of PlentyBay of Plenty\n",
       "2                  AucklandAuckland\n",
       "3                SouthlandSouthland\n",
       "4              CanterburyCanterbury\n",
       "                   ...             \n",
       "2703               AucklandAuckland\n",
       "2704           WellingtonWellington\n",
       "2705                 WaikatoWaikato\n",
       "2706                 WaikatoWaikato\n",
       "2707           WellingtonWellington\n",
       "Name: location, Length: 2708, dtype: object"
      ]
     },
     "execution_count": 20,
     "metadata": {},
     "output_type": "execute_result"
    }
   ],
   "source": [
    "df_admin['location']"
   ]
  },
  {
   "cell_type": "code",
   "execution_count": 36,
   "metadata": {},
   "outputs": [],
   "source": [
    "def deduplication(x):\n",
    "    try:\n",
    "        mid = len(x)//2\n",
    "        return x[:mid+1]\n",
    "    except:\n",
    "        pass"
   ]
  },
  {
   "cell_type": "code",
   "execution_count": 22,
   "metadata": {},
   "outputs": [],
   "source": [
    "df_admin['location'] = df_admin['location'].apply(deduplication)"
   ]
  },
  {
   "cell_type": "code",
   "execution_count": 23,
   "metadata": {},
   "outputs": [
    {
     "data": {
      "text/plain": [
       "0        Bay of Plenty\n",
       "1        Bay of Plenty\n",
       "2             Auckland\n",
       "3            Southland\n",
       "4           Canterbury\n",
       "             ...      \n",
       "2703          Auckland\n",
       "2704        Wellington\n",
       "2705           Waikato\n",
       "2706           Waikato\n",
       "2707        Wellington\n",
       "Name: location, Length: 2708, dtype: object"
      ]
     },
     "execution_count": 23,
     "metadata": {},
     "output_type": "execute_result"
    }
   ],
   "source": [
    "df_admin['location']"
   ]
  },
  {
   "cell_type": "code",
   "execution_count": 24,
   "metadata": {},
   "outputs": [
    {
     "data": {
      "text/html": [
       "<div>\n",
       "<style scoped>\n",
       "    .dataframe tbody tr th:only-of-type {\n",
       "        vertical-align: middle;\n",
       "    }\n",
       "\n",
       "    .dataframe tbody tr th {\n",
       "        vertical-align: top;\n",
       "    }\n",
       "\n",
       "    .dataframe thead th {\n",
       "        text-align: right;\n",
       "    }\n",
       "</style>\n",
       "<table border=\"1\" class=\"dataframe\">\n",
       "  <thead>\n",
       "    <tr style=\"text-align: right;\">\n",
       "      <th></th>\n",
       "      <th>0</th>\n",
       "      <th>1</th>\n",
       "      <th>2</th>\n",
       "      <th>3</th>\n",
       "      <th>4</th>\n",
       "      <th>5</th>\n",
       "      <th>location</th>\n",
       "      <th>area</th>\n",
       "    </tr>\n",
       "  </thead>\n",
       "  <tbody>\n",
       "    <tr>\n",
       "      <th>0</th>\n",
       "      <td>Administrator</td>\n",
       "      <td>https://www.seek.co.nz/job/50582301?type=promo...</td>\n",
       "      <td>NaN</td>\n",
       "      <td>location: Bay of PlentyBay of Plentyarea: Taur...</td>\n",
       "      <td>Featured,at,Private Advertiser</td>\n",
       "      <td>classification: Administration &amp; Office Suppor...</td>\n",
       "      <td>Bay of Plenty</td>\n",
       "      <td>: TaurangaTauranga</td>\n",
       "    </tr>\n",
       "    <tr>\n",
       "      <th>1</th>\n",
       "      <td>Receptionist</td>\n",
       "      <td>https://www.seek.co.nz/job/50620889?type=promo...</td>\n",
       "      <td>Avenues Orthodontics</td>\n",
       "      <td>location: Bay of PlentyBay of Plentyarea: Taur...</td>\n",
       "      <td>Featured,at</td>\n",
       "      <td>classification: Administration &amp; Office Suppor...</td>\n",
       "      <td>Bay of Plenty</td>\n",
       "      <td>: TaurangaTauranga</td>\n",
       "    </tr>\n",
       "    <tr>\n",
       "      <th>2</th>\n",
       "      <td>Prosecutions Support Officer</td>\n",
       "      <td>https://www.seek.co.nz/job/50622169?type=stand...</td>\n",
       "      <td>New Zealand Police</td>\n",
       "      <td>location: AucklandAuckland</td>\n",
       "      <td>4d ago,at</td>\n",
       "      <td>classification: Administration &amp; Office Suppor...</td>\n",
       "      <td>Auckland</td>\n",
       "      <td>None</td>\n",
       "    </tr>\n",
       "    <tr>\n",
       "      <th>3</th>\n",
       "      <td>Early Childhood Centre Administrator</td>\n",
       "      <td>https://www.seek.co.nz/job/50639620?type=stand...</td>\n",
       "      <td>Kew Pacific Island Early Learning Centre</td>\n",
       "      <td>location: SouthlandSouthlandarea: Invercargill...</td>\n",
       "      <td>1h ago,at</td>\n",
       "      <td>classification: Administration &amp; Office Suppor...</td>\n",
       "      <td>Southland</td>\n",
       "      <td>: InvercargillInvercargill</td>\n",
       "    </tr>\n",
       "    <tr>\n",
       "      <th>4</th>\n",
       "      <td>Business Support Administrator</td>\n",
       "      <td>https://www.seek.co.nz/job/50622432?type=stand...</td>\n",
       "      <td>NaN</td>\n",
       "      <td>location: CanterburyCanterburyarea: Christchur...</td>\n",
       "      <td>4d ago,at,Private Advertiser</td>\n",
       "      <td>classification: Administration &amp; Office Suppor...</td>\n",
       "      <td>Canterbury</td>\n",
       "      <td>: ChristchurchChristchurch</td>\n",
       "    </tr>\n",
       "  </tbody>\n",
       "</table>\n",
       "</div>"
      ],
      "text/plain": [
       "                                      0  \\\n",
       "0                         Administrator   \n",
       "1                          Receptionist   \n",
       "2          Prosecutions Support Officer   \n",
       "3  Early Childhood Centre Administrator   \n",
       "4        Business Support Administrator   \n",
       "\n",
       "                                                   1  \\\n",
       "0  https://www.seek.co.nz/job/50582301?type=promo...   \n",
       "1  https://www.seek.co.nz/job/50620889?type=promo...   \n",
       "2  https://www.seek.co.nz/job/50622169?type=stand...   \n",
       "3  https://www.seek.co.nz/job/50639620?type=stand...   \n",
       "4  https://www.seek.co.nz/job/50622432?type=stand...   \n",
       "\n",
       "                                          2  \\\n",
       "0                                       NaN   \n",
       "1                      Avenues Orthodontics   \n",
       "2                        New Zealand Police   \n",
       "3  Kew Pacific Island Early Learning Centre   \n",
       "4                                       NaN   \n",
       "\n",
       "                                                   3  \\\n",
       "0  location: Bay of PlentyBay of Plentyarea: Taur...   \n",
       "1  location: Bay of PlentyBay of Plentyarea: Taur...   \n",
       "2                         location: AucklandAuckland   \n",
       "3  location: SouthlandSouthlandarea: Invercargill...   \n",
       "4  location: CanterburyCanterburyarea: Christchur...   \n",
       "\n",
       "                                4  \\\n",
       "0  Featured,at,Private Advertiser   \n",
       "1                     Featured,at   \n",
       "2                       4d ago,at   \n",
       "3                       1h ago,at   \n",
       "4    4d ago,at,Private Advertiser   \n",
       "\n",
       "                                                   5        location  \\\n",
       "0  classification: Administration & Office Suppor...   Bay of Plenty   \n",
       "1  classification: Administration & Office Suppor...   Bay of Plenty   \n",
       "2  classification: Administration & Office Suppor...        Auckland   \n",
       "3  classification: Administration & Office Suppor...       Southland   \n",
       "4  classification: Administration & Office Suppor...      Canterbury   \n",
       "\n",
       "                         area  \n",
       "0          : TaurangaTauranga  \n",
       "1          : TaurangaTauranga  \n",
       "2                        None  \n",
       "3  : InvercargillInvercargill  \n",
       "4  : ChristchurchChristchurch  "
      ]
     },
     "execution_count": 24,
     "metadata": {},
     "output_type": "execute_result"
    }
   ],
   "source": [
    "df_admin.head()"
   ]
  },
  {
   "cell_type": "code",
   "execution_count": 26,
   "metadata": {},
   "outputs": [],
   "source": [
    "def null(x):\n",
    "    if x is null:\n",
    "        return \"unknown\"\n",
    "    return x"
   ]
  },
  {
   "cell_type": "code",
   "execution_count": 30,
   "metadata": {},
   "outputs": [
    {
     "data": {
      "text/plain": [
       "0       False\n",
       "1       False\n",
       "2        True\n",
       "3       False\n",
       "4       False\n",
       "        ...  \n",
       "2703    False\n",
       "2704    False\n",
       "2705    False\n",
       "2706    False\n",
       "2707     True\n",
       "Name: area, Length: 2708, dtype: bool"
      ]
     },
     "execution_count": 30,
     "metadata": {},
     "output_type": "execute_result"
    }
   ],
   "source": [
    "df_admin['area'].isna()"
   ]
  },
  {
   "cell_type": "code",
   "execution_count": 31,
   "metadata": {},
   "outputs": [
    {
     "ename": "SyntaxError",
     "evalue": "cannot assign to function call (<ipython-input-31-f2c418b0b7ed>, line 1)",
     "output_type": "error",
     "traceback": [
      "\u001b[0;36m  File \u001b[0;32m\"<ipython-input-31-f2c418b0b7ed>\"\u001b[0;36m, line \u001b[0;32m1\u001b[0m\n\u001b[0;31m    df_admin['area'].isna()=df_admin['area'].isna('unknown')\u001b[0m\n\u001b[0m    ^\u001b[0m\n\u001b[0;31mSyntaxError\u001b[0m\u001b[0;31m:\u001b[0m cannot assign to function call\n"
     ]
    }
   ],
   "source": [
    "df_admin['area'].isna()=df_admin['area'].isna('unknown')"
   ]
  },
  {
   "cell_type": "code",
   "execution_count": 34,
   "metadata": {},
   "outputs": [
    {
     "data": {
      "text/plain": [
       "0                                      : TaurangaTauranga\n",
       "1                                      : TaurangaTauranga\n",
       "2                                                 unknown\n",
       "3                              : InvercargillInvercargill\n",
       "4                              : ChristchurchChristchurch\n",
       "                              ...                        \n",
       "2703                   : Auckland CentralAuckland Central\n",
       "2704    : Wellington CentralWellington Central,Competi...\n",
       "2705       : HamiltonHamilton,Competitive hourly rates $$\n",
       "2706       : HamiltonHamilton,Competitive hourly rates $$\n",
       "2707                                              unknown\n",
       "Name: area, Length: 2708, dtype: object"
      ]
     },
     "execution_count": 34,
     "metadata": {},
     "output_type": "execute_result"
    }
   ],
   "source": [
    "df_admin['area'].fillna(value='unknown')"
   ]
  },
  {
   "cell_type": "code",
   "execution_count": 37,
   "metadata": {},
   "outputs": [],
   "source": [
    "df_admin['area'] = df_admin['area'].apply(deduplication)"
   ]
  },
  {
   "cell_type": "code",
   "execution_count": 38,
   "metadata": {},
   "outputs": [
    {
     "data": {
      "text/plain": [
       "0                             : Tauranga\n",
       "1                             : Tauranga\n",
       "2                                   None\n",
       "3                         : Invercargill\n",
       "4                         : Christchurch\n",
       "                      ...               \n",
       "2703                  : Auckland Central\n",
       "2704    : Wellington CentralWellington C\n",
       "2705            : HamiltonHamilton,Compe\n",
       "2706            : HamiltonHamilton,Compe\n",
       "2707                                None\n",
       "Name: area, Length: 2708, dtype: object"
      ]
     },
     "execution_count": 38,
     "metadata": {},
     "output_type": "execute_result"
    }
   ],
   "source": [
    "df_admin['area']"
   ]
  },
  {
   "cell_type": "code",
   "execution_count": null,
   "metadata": {},
   "outputs": [],
   "source": []
  }
 ],
 "metadata": {
  "kernelspec": {
   "display_name": "Python 3",
   "language": "python",
   "name": "python3"
  },
  "language_info": {
   "codemirror_mode": {
    "name": "ipython",
    "version": 3
   },
   "file_extension": ".py",
   "mimetype": "text/x-python",
   "name": "python",
   "nbconvert_exporter": "python",
   "pygments_lexer": "ipython3",
   "version": "3.8.5"
  }
 },
 "nbformat": 4,
 "nbformat_minor": 4
}
